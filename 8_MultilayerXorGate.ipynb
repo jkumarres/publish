{
 "cells": [
  {
   "cell_type": "code",
   "execution_count": 2,
   "metadata": {},
   "outputs": [],
   "source": [
    "import numpy as np\n",
    "import matplotlib.pyplot as plt"
   ]
  },
  {
   "cell_type": "code",
   "execution_count": 53,
   "metadata": {},
   "outputs": [
    {
     "data": {
      "image/png": "[encoded data removed]",
      "text/plain": [
       "<Figure size 432x288 with 1 Axes>"
      ]
     },
     "metadata": {
      "needs_background": "light"
     },
     "output_type": "display_data"
    }
   ],
   "source": [
    "NumberSamples = 20\n",
    "\n",
    "X1 = []\n",
    "X2 = []\n",
    "Output = []\n",
    "\n",
    "# X1=0 , X2=0 , XXX=0\n",
    "\n",
    "X1 = np.append( X1 , -5 * np.ones(NumberSamples) )\n",
    "X2 = np.append( X2 , -5 * np.ones(NumberSamples) )\n",
    "Output = np.append( Output , np.zeros([NumberSamples,1]) )\n",
    "\n",
    "\n",
    "# X1=0 , X2=1 , XXX=1\n",
    "\n",
    "X1 = np.append( X1 , -5 * np.ones(NumberSamples) )\n",
    "X2 = np.append( X2 ,  5 * np.ones(NumberSamples) )\n",
    "Output = np.append( Output ,  np.ones([NumberSamples,1]) )\n",
    "\n",
    "\n",
    "# X1=1 , X2=0 , XXX=1\n",
    "\n",
    "X1 = np.append( X1 ,  5 * np.ones(NumberSamples) )\n",
    "X2 = np.append( X2 , -5 * np.ones(NumberSamples) )\n",
    "Output = np.append( Output ,  np.ones([NumberSamples,1]) )\n",
    "\n",
    "\n",
    "# X1=1 , X2=1 , XXX=0\n",
    "\n",
    "X1 = np.append( X1 ,  5 * np.ones(NumberSamples) )\n",
    "X2 = np.append( X2 ,  5 * np.ones(NumberSamples) )\n",
    "Output = np.append( Output , np.zeros([NumberSamples,1]) )\n",
    "\n",
    "\n",
    "# Adding noise to input data\n",
    "\n",
    "X1 = X1 + 1 * np.random.randn( 4* NumberSamples )\n",
    "X2 = X2 + 1 * np.random.randn( 4* NumberSamples )\n",
    "\n",
    "\n",
    "X = np.zeros( [2 , 4*NumberSamples] )\n",
    "X[0,:] = X1[:]\n",
    "X[1,:] = X2[:]\n",
    "\n",
    "\n",
    "# Plot data\n",
    "\n",
    "for i in range(4 * NumberSamples):\n",
    "    if (Output[i]==0) :\n",
    "        plt.plot( X[0,i] , X[1,i] , '.r' )\n",
    "    if (Output[i]==1) :\n",
    "        plt.plot( X[0,i] , X[1,i] , '.b' )\n",
    "\n",
    "plt.show()\n",
    "\n",
    "PointClass = 2 * XXX - 1"
   ]
  },
  {
   "cell_type": "code",
   "execution_count": 54,
   "metadata": {},
   "outputs": [],
   "source": [
    "W  = np.random.rand( 2,2 )\n",
    "WW = np.random.rand( 1,2 )\n",
    "\n",
    "b  = np.random.rand( 2,1 )\n",
    "bb = np.random.rand( 1,1 )"
   ]
  },
  {
   "cell_type": "code",
   "execution_count": 55,
   "metadata": {},
   "outputs": [],
   "source": [
    "def f( input ):\n",
    "    return np.tanh( input )\n",
    "\n",
    "def df( input ):\n",
    "    return 1/np.cosh( input )\n",
    "\n",
    "\n",
    "def ff( input ):\n",
    "    return np.tanh( input )\n",
    "\n",
    "def dff( input ):\n",
    "    return 1/np.cosh( input )"
   ]
  },
  {
   "cell_type": "code",
   "execution_count": 56,
   "metadata": {},
   "outputs": [],
   "source": [
    "XX  =  f( np.matmul(  W ,  X ) +  b )\n",
    "XXX = ff( np.matmul( WW , XX ) + bb )"
   ]
  },
  {
   "cell_type": "code",
   "execution_count": 57,
   "metadata": {},
   "outputs": [
    {
     "name": "stdout",
     "output_type": "stream",
     "text": [
      "46.511822370700436\n"
     ]
    }
   ],
   "source": [
    "E = np.sum( (Output - XXX)**2 )\n",
    "print( E )"
   ]
  },
  {
   "cell_type": "code",
   "execution_count": null,
   "metadata": {},
   "outputs": [],
   "source": [
    "dE_db = "
   ]
  }
 ],
 "metadata": {
  "kernelspec": {
   "display_name": "Python 3.8.10 64-bit",
   "language": "python",
   "name": "python3"
  },
  "language_info": {
   "codemirror_mode": {
    "name": "ipython",
    "version": 3
   },
   "file_extension": ".py",
   "mimetype": "text/x-python",
   "name": "python",
   "nbconvert_exporter": "python",
   "pygments_lexer": "ipython3",
   "version": "3.8.10"
  },
  "orig_nbformat": 4,
  "vscode": {
   "interpreter": {
    "hash": "31f2aee4e71d21fbe5cf8b01ff0e069b9275f58929596ceb00d14d90e3e16cd6"
   }
  }
 },
 "nbformat": 4,
 "nbformat_minor": 2
}
